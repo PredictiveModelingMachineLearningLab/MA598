{
 "cells": [
  {
   "cell_type": "markdown",
   "metadata": {
    "slideshow": {
     "slide_type": "slide"
    }
   },
   "source": [
    "# Lecture 2 - Introduction to Probability Theory\n",
    "> Probability theory is nothing but common sense reduced to calculation. P. Laplace (1812)"
   ]
  },
  {
   "cell_type": "markdown",
   "metadata": {
    "slideshow": {
     "slide_type": "slide"
    }
   },
   "source": [
    "## Objectives\n",
    "+ To use probability theory to represent states of knowledge.\n",
    "+ To use probability theory to extend Aristotelian logic to reason under uncertainty.\n",
    "+ To learn about the **pruduct rule** of probability theory.\n",
    "+ To learn about the **sum rule** of probability theory.\n",
    "+ What is a **random variable**?\n",
    "+ What is a **discrete random variable**?"
   ]
  },
  {
   "cell_type": "markdown",
   "metadata": {
    "slideshow": {
     "slide_type": "slide"
    }
   },
   "source": [
    "## More Objectives...\n",
    "+ When are two random variables **independent**?\n",
    "+ What is a **continuous random variable**?\n",
    "+ What is the **cumulative distribution function**?\n",
    "+ What is the **probability density function**?"
   ]
  },
  {
   "cell_type": "markdown",
   "metadata": {
    "slideshow": {
     "slide_type": "slide"
    }
   },
   "source": [
    "## Readings\n",
    "\n",
    "Before coming to class, please read the following:\n",
    "\n",
    "+ [Chapter 1 of Probabilistic Programming and Bayesian Methods for Hackers](http://nbviewer.ipython.org/github/CamDavidsonPilon/Probabilistic-Programming-and-Bayesian-Methods-for-Hackers/blob/master/Chapter1_Introduction/Chapter1.ipynb)\n",
    "+ [Chapter 1](http://home.fnal.gov/~paterno/images/jaynesbook/cc01p.pdf) of (Jaynes, 2003).\n",
    "+ [Chapter 2](http://home.fnal.gov/~paterno/images/jaynesbook/cc02p.pdf) of (Jaynes, 2003) (skim through)."
   ]
  },
  {
   "cell_type": "markdown",
   "metadata": {
    "slideshow": {
     "slide_type": "slide"
    }
   },
   "source": [
    "## The basic desiderata of probability theory\n",
    "It is actually possible to derive the rules of probability based on a system of common sense requirements.\n",
    "Paraphrasing \n",
    "[Chapter 1](http://home.fnal.gov/~paterno/images/jaynesbook/cc01p.pdf) of (Jaynes, 2003)),\n",
    "we would like our system to satisfy the following desiderata:\n",
    "\n",
    "1) *Degrees of plausibility are represented by real numbers.*\n"
   ]
  },
  {
   "cell_type": "markdown",
   "metadata": {
    "slideshow": {
     "slide_type": "fragment"
    }
   },
   "source": [
    "2) *The system should have a qualitative correspondance with common sense.*"
   ]
  },
  {
   "cell_type": "markdown",
   "metadata": {
    "slideshow": {
     "slide_type": "fragment"
    }
   },
   "source": [
    "3) *The system should be consistent.*"
   ]
  },
  {
   "cell_type": "markdown",
   "metadata": {
    "slideshow": {
     "slide_type": "slide"
    }
   },
   "source": [
    "3) *The system should be consistent in the sense that:*"
   ]
  },
  {
   "cell_type": "markdown",
   "metadata": {
    "slideshow": {
     "slide_type": "fragment"
    }
   },
   "source": [
    "   + *If a conclusion can be reasoned out in more than one way, then every possible way must lead to the same result.*"
   ]
  },
  {
   "cell_type": "markdown",
   "metadata": {
    "slideshow": {
     "slide_type": "fragment"
    }
   },
   "source": [
    "   + *All the evidence relevant to a question should be taken into account.*"
   ]
  },
  {
   "cell_type": "markdown",
   "metadata": {
    "slideshow": {
     "slide_type": "fragment"
    }
   },
   "source": [
    "   + *Equivalent states of knowledge must be represented by equivalent plausibility assignments.*"
   ]
  },
  {
   "cell_type": "markdown",
   "metadata": {
    "slideshow": {
     "slide_type": "slide"
    }
   },
   "source": [
    "## How to speak about probabilities?\n",
    "Let\n"
   ]
  },
  {
   "cell_type": "markdown",
   "metadata": {
    "slideshow": {
     "slide_type": "fragment"
    }
   },
   "source": [
    "+ A be a logical sentence,\n",
    "\n"
   ]
  },
  {
   "cell_type": "markdown",
   "metadata": {
    "slideshow": {
     "slide_type": "fragment"
    }
   },
   "source": [
    "+ B be another logical sentence, and\n",
    "\n"
   ]
  },
  {
   "cell_type": "markdown",
   "metadata": {
    "slideshow": {
     "slide_type": "fragment"
    }
   },
   "source": [
    "+ and I be all other information we know."
   ]
  },
  {
   "cell_type": "markdown",
   "metadata": {
    "slideshow": {
     "slide_type": "slide"
    }
   },
   "source": [
    "## How to speak about probabilities?\n",
    "There is no restriction on what A and B may be as soon as none of them is a contradiction.\n",
    "We write as a shortcut:\n"
   ]
  },
  {
   "cell_type": "markdown",
   "metadata": {
    "slideshow": {
     "slide_type": "fragment"
    }
   },
   "source": [
    "$$\n",
    "\\mbox{not A} \\equiv \\neg A,\n",
    "$$"
   ]
  },
  {
   "cell_type": "markdown",
   "metadata": {
    "slideshow": {
     "slide_type": "fragment"
    }
   },
   "source": [
    "\n",
    "$$\n",
    "A\\;\\mbox{and}\\;B \\equiv A,B \\equiv AB,\n",
    "$$"
   ]
  },
  {
   "cell_type": "markdown",
   "metadata": {
    "slideshow": {
     "slide_type": "fragment"
    }
   },
   "source": [
    "$$\n",
    "A\\;\\mbox{or}\\;B \\equiv A + B.\n",
    "$$"
   ]
  },
  {
   "cell_type": "markdown",
   "metadata": {
    "slideshow": {
     "slide_type": "slide"
    }
   },
   "source": [
    "## How to speak about probabilities?\n",
    "We **write**:\n",
    "$$\n",
    "p(A|BI),\n",
    "$$"
   ]
  },
  {
   "cell_type": "markdown",
   "metadata": {
    "slideshow": {
     "slide_type": "fragment"
    }
   },
   "source": [
    "and we **read**:\n",
    "> the probability of A being true given that we know that B and I are true"
   ]
  },
  {
   "cell_type": "markdown",
   "metadata": {
    "slideshow": {
     "slide_type": "slide"
    }
   },
   "source": [
    "## How to speak about probabilities?\n",
    "Or, we **write**:\n",
    "$$\n",
    "p(A|BI),\n",
    "$$\n",
    "and (assuming knowledge I is implied) we say\n",
    "\n",
    "> the probability of A being true given that we know that B is true\n"
   ]
  },
  {
   "cell_type": "markdown",
   "metadata": {
    "slideshow": {
     "slide_type": "fragment"
    }
   },
   "source": [
    "\n",
    "or (making it even shorter)\n",
    "\n",
    "> the probability of A given B."
   ]
  },
  {
   "cell_type": "markdown",
   "metadata": {
    "slideshow": {
     "slide_type": "slide"
    }
   },
   "source": [
    "## How to speak about probabilities?\n",
    "+ $p(A|B,I)$ is just a number between 0 and 1 that corresponds to the degree of **plaussibility** of A being true conditioned on the truth of B and I.\n",
    "+ 0 and 1 are special cases..."
   ]
  },
  {
   "cell_type": "markdown",
   "metadata": {
    "slideshow": {
     "slide_type": "slide"
    }
   },
   "source": [
    "## How to speak about probabilities?\n",
    "+ If\n",
    "$$\n",
    "p(A|BI) = 0,\n",
    "$$\n",
    "we say that we are certain that A is false if B is true."
   ]
  },
  {
   "cell_type": "markdown",
   "metadata": {
    "slideshow": {
     "slide_type": "slide"
    }
   },
   "source": [
    "## How to speak about probabilities?\n",
    "+ If\n",
    "$$\n",
    "p(A|BI) = 1,\n",
    "$$\n",
    "we say that we are certain that A is false if B is false."
   ]
  },
  {
   "cell_type": "markdown",
   "metadata": {
    "slideshow": {
     "slide_type": "slide"
    }
   },
   "source": [
    "## How to speak about probabilities?\n",
    "+ If\n",
    "$$\n",
    "p(A|BI) \\in (0, 1),\n",
    "$$\n",
    "we say that we are uncertain about A given that B is false.\n",
    "Depending on whether $p(A|B,I)$ is closer to 0 or 1 we beleive more on one possibiliy or another.\n",
    "\n",
    "+ Complete ignorance corresponds to a probability of 0.5."
   ]
  },
  {
   "cell_type": "markdown",
   "metadata": {
    "slideshow": {
     "slide_type": "slide"
    }
   },
   "source": [
    "## The basic desiderata of probability theory\n",
    "It is actually possible to derive the rules of probability based on a system of common sense requirements.\n",
    "Paraphrasing \n",
    "[Chapter 1](http://home.fnal.gov/~paterno/images/jaynesbook/cc01p.pdf) of (Jaynes, 2003)),\n",
    "we would like our system to satisfy the following desiderata:\n",
    "\n",
    "1) *Degrees of plausibility are represented by real numbers.*\n",
    "\n",
    "2) *The system should have a qualitative correspondance with common sense.*\n",
    "\n",
    "3) *The system should be consistent.*"
   ]
  },
  {
   "cell_type": "markdown",
   "metadata": {
    "slideshow": {
     "slide_type": "slide"
    }
   },
   "source": [
    "## The rules of probability theory\n",
    "\n",
    "According to\n",
    "[Chapter 2](http://home.fnal.gov/~paterno/images/jaynesbook/cc02m.pdf) of (Jaynes, 2003) the desiderata are enough\n",
    "to derive the rules of probability:"
   ]
  },
  {
   "cell_type": "markdown",
   "metadata": {
    "slideshow": {
     "slide_type": "fragment"
    }
   },
   "source": [
    "+ The **obvious rule** (in lack of a better name):\n",
    "$$\n",
    "p(A | I) + p(\\neg A | I) = 1.\n",
    "$$"
   ]
  },
  {
   "cell_type": "markdown",
   "metadata": {
    "slideshow": {
     "slide_type": "fragment"
    }
   },
   "source": [
    "+ The **product rule** (also known as the Bayes rule or Bayes theorem):\n",
    "$$\n",
    "p(AB|I) = p(A|BI)p(B|I).\n",
    "$$\n",
    "or\n",
    "$$\n",
    "p(AB|I) = p(B|AI)p(A|I).\n",
    "$$"
   ]
  },
  {
   "cell_type": "markdown",
   "metadata": {
    "slideshow": {
     "slide_type": "slide"
    }
   },
   "source": [
    "## The rules of probability theory\n",
    "\n",
    "These two rules are enough to compute any probability we want. Let us demonstrate this by a very simple example."
   ]
  },
  {
   "cell_type": "markdown",
   "metadata": {
    "slideshow": {
     "slide_type": "slide"
    }
   },
   "source": [
    "### Example: Drawing balls from a box without replacement\n",
    "Consider the following example of prior information I:\n",
    "\n",
    "+ Box with 10 balls\n",
    "+ 6 of which are red and 4 of are blue.\n",
    "+ The box is sufficiently mixed.\n",
    "![](../slides/urn.png)"
   ]
  },
  {
   "cell_type": "markdown",
   "metadata": {
    "slideshow": {
     "slide_type": "slide"
    }
   },
   "source": [
    "### Example: Drawing balls from a box without replacement\n",
    "\n",
    "Let A be the sentence: * The first ball we draw is blue. *\n",
    "\n",
    "Intuitively, we would set the probability of A equal to:\n",
    "$$\n",
    "p(A|I) = \\frac{4}{10}.\n",
    "$$"
   ]
  },
  {
   "cell_type": "markdown",
   "metadata": {
    "slideshow": {
     "slide_type": "slide"
    }
   },
   "source": [
    "### Example: Drawing balls from a box without replacement\n",
    "From the \"obvious rule\", we get that the probability of not drawing a blue ball, i.e.,\n",
    "the probability of drawing a red ball in the first draw is:\n",
    "$$\n",
    "p(\\neg A|I) = 1 - p(A|I) = 1 - \\frac{4}{10} = \\frac{6}{10}.\n",
    "$$"
   ]
  },
  {
   "cell_type": "markdown",
   "metadata": {
    "slideshow": {
     "slide_type": "slide"
    }
   },
   "source": [
    "### Example: Drawing balls from a box without replacement\n",
    "Now, let B be the sentence: *The second ball we draw is red.*\n",
    "\n",
    "What is the probability that we draw a red ball in the second draw given that we drew a blue ball in the first draw?\n",
    "\n",
    "We have:\n",
    "$$\n",
    "p(B|AI) = \\frac{6}{9}.\n",
    "$$"
   ]
  },
  {
   "cell_type": "markdown",
   "metadata": {
    "slideshow": {
     "slide_type": "slide"
    }
   },
   "source": [
    "### Example: Drawing balls from a box without replacement\n",
    "What if we wanted to find the probability that we draw a blue during the first draw and a red during the second draw? \n"
   ]
  },
  {
   "cell_type": "markdown",
   "metadata": {
    "slideshow": {
     "slide_type": "fragment"
    }
   },
   "source": [
    "It is:\n",
    "$$\n",
    "p(AB|I) = p(A|I)p(B|AI) = \\frac{4}{10}\\frac{6}{9} = \\frac{24}{90}.\n",
    "$$"
   ]
  },
  {
   "cell_type": "markdown",
   "metadata": {
    "slideshow": {
     "slide_type": "slide"
    }
   },
   "source": [
    "### Example: Drawing balls from a box without replacement\n",
    "\n",
    "What about the probability of a red followed by a blue?"
   ]
  },
  {
   "cell_type": "markdown",
   "metadata": {
    "slideshow": {
     "slide_type": "fragment"
    }
   },
   "source": [
    "It is:\n",
    "$$\n",
    "p(\\neg AB|I) = p(\\neg A|I)p(B|AI) = \\left[1 - p(A|I) \\right]p(B|\\neg AI) = \\frac{6}{10}\\frac{5}{9} = \\frac{30}{90}.\n",
    "$$"
   ]
  },
  {
   "cell_type": "markdown",
   "metadata": {
    "slideshow": {
     "slide_type": "slide"
    }
   },
   "source": [
    "### Other rules of probability theory\n",
    "\n",
    "All the other rules of probability theory can be derived from these two rules.\n",
    "To demonstrate this, let's prove that:\n",
    "$$\n",
    "p(A + B|I) = p(A|I) + p(B|I) - p(AB|I).\n",
    "$$"
   ]
  },
  {
   "cell_type": "markdown",
   "metadata": {
    "slideshow": {
     "slide_type": "slide"
    }
   },
   "source": [
    "### Other rules of probability theory\n",
    "Here we go:\n",
    "\\begin{eqnarray*}\n",
    "p(A+B|I) &=& 1 - p(\\neg A \\neg B|I)\\;\\mbox{(obvious rule)}\\\\\n",
    "         &=& 1 - p(\\neg A|\\neg BI)p(\\neg B|I)\\;\\mbox{(product rule)}\\\\\n",
    "         &=& 1 - [1 - p(A |\\neg BI)]p(\\neg B|I)\\;\\mbox{(obvious rule)}\\\\\n",
    "         &=& 1 - p(\\neg B|I) + p(A|\\neg B I)p(\\neg B|I)\\\\\n",
    "         &=& 1 - [1 - p(B|I)] + p(A|\\neg B I)p(\\neg B|I)\\\\\n",
    "         &=& p(B|I) + p(A|\\neg B I)p(\\neg B|I)\\\\\n",
    "         &=& p(B|I) + p(A\\neg B|I)\\\\\n",
    "         &=& p(B|I) + p(\\neg B|AI)p(A|I)\\\\\n",
    "         &=& p(B|I) + [1 - p(B|AI)] p(A|I)\\\\\n",
    "         &=& p(B|I) + p(A|I) - p(B|AI)p(A|I)\\\\\n",
    "         &=& p(A|I) + p(B|I) - p(AB|I).\n",
    "\\end{eqnarray*}"
   ]
  },
  {
   "cell_type": "markdown",
   "metadata": {
    "slideshow": {
     "slide_type": "slide"
    }
   },
   "source": [
    "### The sum rule\n",
    "Now consider a finite set of logical sentences, $B_1,\\dots,B_n$ such that:"
   ]
  },
  {
   "cell_type": "markdown",
   "metadata": {
    "slideshow": {
     "slide_type": "fragment"
    }
   },
   "source": [
    "1. One of them is definitely true:\n",
    "    $$\n",
    "    p(B_1+\\dots+B_n|I) = 1.\n",
    "    $$"
   ]
  },
  {
   "cell_type": "markdown",
   "metadata": {
    "slideshow": {
     "slide_type": "fragment"
    }
   },
   "source": [
    "2. They are mutually exclusive:\n",
    "    $$\n",
    "    p(B_iB_j|I) = 0,\\;\\mbox{if}\\;i\\not=j.\n",
    "    $$"
   ]
  },
  {
   "cell_type": "markdown",
   "metadata": {
    "slideshow": {
     "slide_type": "fragment"
    }
   },
   "source": [
    "The **sum rule** states that:\n",
    "    $$\n",
    "    P(A|I) = \\sum_i p(AB_i|I) = \\sum_i p(A|B_i I)p(B_i|I).\n",
    "    $$"
   ]
  },
  {
   "cell_type": "markdown",
   "metadata": {
    "slideshow": {
     "slide_type": "slide"
    }
   },
   "source": [
    "### The sum rule\n",
    "\n",
    "We can prove this by induction, but let's just prove it for $n=2$:\n",
    "$$\n",
    "\\begin{array}{ccc}\n",
    "p(A|I) &=& p[A(B_1+B_2)|I]\\\\\n",
    "       &=& p(AB_1 + AB_2|I)\\\\\n",
    "       &=& p(AB_1|I) + p(AB_2|I) - p(AB_1B_2|I)\\\\\n",
    "       &=& p(AB_1|I) + p(AB_2|I),\n",
    "\\end{array}\n",
    "$$\n",
    "since\n",
    "$$\n",
    "p(AB_1B_2|I) = p(A|B_1B_2|I)p(B_1B_2|I) = 0.\n",
    "$$"
   ]
  },
  {
   "cell_type": "markdown",
   "metadata": {
    "slideshow": {
     "slide_type": "slide"
    }
   },
   "source": [
    "### Example: Drawing balls from a box without replacement\n",
    "We can use the sum rule to compute the probability of getting a red ball on the second draw independently of what we drew first. This is how it goes:\n",
    "$$\n",
    "\\begin{array}{ccc}\n",
    "p(B|I) &=& p(AB|I) + p(\\neg AB|I)\\\\\n",
    "       &=& p(B|AI)p(A|I) + p(B|\\neg AI) p(\\neg A|I)\\\\\n",
    "       &=& \\frac{6}{9}\\frac{4}{10} + \\frac{5}{9}\\frac{6}{10}\\\\\n",
    "       &=& \\dots\n",
    "\\end{array}\n",
    "$$"
   ]
  },
  {
   "cell_type": "markdown",
   "metadata": {
    "slideshow": {
     "slide_type": "slide"
    }
   },
   "source": [
    "### Example: Medical Diagnosis\n",
    "\n",
    "+ The percentage of the population infected by tuberculosis is 0.4%.\n",
    "\n",
    "+ We have run several experiments and determined that: \n",
    " \n",
    "+ If a tested patient has the disease, then 80% of the time the test comes out positive.\n",
    "\n",
    "+ If a tested patient does not have the disease, then 90% of the time, the test comes out negative."
   ]
  },
  {
   "cell_type": "markdown",
   "metadata": {
    "slideshow": {
     "slide_type": "slide"
    }
   },
   "source": [
    "### Example: Medical Diagnosis\n",
    "+ Suppose now that you administer this test to a patient and that the result is positive.\n",
    "\n",
    "+ How confident are you that the patient does indeed have the disease?"
   ]
  },
  {
   "cell_type": "markdown",
   "metadata": {
    "slideshow": {
     "slide_type": "slide"
    }
   },
   "source": [
    "### Example: Medical Diagnosis\n",
    "+ A: \"The patient's test is positive.\"\n",
    "\n",
    "+ B: \"The patient has tuberculosis.\"\n",
    "\n",
    "Then\n",
    "\n",
    "$$\n",
    "p(B|I) =  0.004,\n",
    "$$\n",
    "\n",
    "$$\n",
    "p(A|B,I) = 0.8,\n",
    "$$\n",
    "and\n",
    "$$\n",
    "p(A|\\neg B, I) = 0.1.\n",
    "$$"
   ]
  },
  {
   "cell_type": "markdown",
   "metadata": {
    "slideshow": {
     "slide_type": "slide"
    }
   },
   "source": [
    "### Example: Medical Diagnosis\n",
    "We are looking for:\n",
    "$$\n",
    "\\begin{array}{ccc}\n",
    "P(B|A,I)&=& \\frac{p(AB|I)}{p(A|I)} \\\\\n",
    "&=& \\frac{p(A|B,I)p(B|I)}{p(A|B,I)p(B|I) + p(A|\\neg B, I)p(\\neg B|I)}\\\\\n",
    "&=& \\frac{0.8\\times 0.004}{0.8\\times 0.004 + 0.1 \\times 0.996}\\\\\n",
    "&\\approx& 0.031.\n",
    "\\end{array}\n",
    "$$\n",
    "How much would you pay for such a test? "
   ]
  },
  {
   "cell_type": "markdown",
   "metadata": {
    "slideshow": {
     "slide_type": "slide"
    }
   },
   "source": [
    "## Conditional Independence\n",
    "\n",
    "We say that $A$ and $B$ are **independent** (conditional on I), and write,\n",
    "$$\n",
    "A\\perp B|I,\n",
    "$$\n",
    "if knowledge of one does not yield any information about the other."
   ]
  },
  {
   "cell_type": "markdown",
   "metadata": {
    "slideshow": {
     "slide_type": "slide"
    }
   },
   "source": [
    "## Conditional Independence\n",
    "Mathematically,\n",
    "$$\n",
    "A\\perp B|I,\n",
    "$$\n",
    "iff\n",
    "$$\n",
    "p(A|B,I) = p(A|I).\n",
    "$$"
   ]
  },
  {
   "cell_type": "markdown",
   "metadata": {
    "slideshow": {
     "slide_type": "fragment"
    }
   },
   "source": [
    "Using the product rule, we can easily show that:\n",
    "$$\n",
    "A\\perp B|I \\iff p(AB|I) = p(A|I)p(B|I).\n",
    "$$"
   ]
  },
  {
   "cell_type": "markdown",
   "metadata": {
    "slideshow": {
     "slide_type": "slide"
    }
   },
   "source": [
    "### Question\n",
    "+ Give an example of $I, A$ and $B$ so that $A\\perp B|I$."
   ]
  },
  {
   "cell_type": "markdown",
   "metadata": {
    "slideshow": {
     "slide_type": "slide"
    }
   },
   "source": [
    "## Conditional Independence\n",
    "\n",
    "Now, let $C$ be another event. We say that $A$ and $B$ are **independent** conditional on $C$ (and I), and write:\n",
    "$$\n",
    "A\\perp B|C,I,\n",
    "$$\n",
    "if knowlege of $C$ makes information about $A$ irrelevant to $B$ (and vice versa). Mathematically, we mean that:\n",
    "$$\n",
    "p(A|B,C,I) = p(A|C,I).\n",
    "$$"
   ]
  },
  {
   "cell_type": "markdown",
   "metadata": {
    "slideshow": {
     "slide_type": "slide"
    }
   },
   "source": [
    "### Question\n",
    "+ Give an example of $I,A,B,C$ so that $A\\perp B|C,I$."
   ]
  },
  {
   "cell_type": "markdown",
   "metadata": {
    "slideshow": {
     "slide_type": "slide"
    }
   },
   "source": [
    "## Random Variables\n",
    "\n",
    "+ A **random variable** $X$ will just be a variable of our problem whose value is unknown to us.\n",
    "\n",
    "+ You should not take the word \"random\" too literally.\n",
    "\n",
    "+ If we could, we would change the name to **uncertain** or **unknown** variable.\n",
    "\n",
    "+ A random variable could correspond to something fixed but unknown, e.g., the number of balls in a box,\n",
    "  or it could correspond to something truely random, e.g., the number of particles that hit a [Geiger counter](https://en.wikipedia.org/wiki/Geiger_counter) in a specific time interval.\n"
   ]
  },
  {
   "cell_type": "markdown",
   "metadata": {
    "slideshow": {
     "slide_type": "slide"
    }
   },
   "source": [
    "### Discrete Random Variables\n",
    "+ A random variable $X$ is discrete, if the possible values it can take are discrete (possibly countably infinite)."
   ]
  },
  {
   "cell_type": "markdown",
   "metadata": {
    "slideshow": {
     "slide_type": "fragment"
    }
   },
   "source": [
    "+ We write:\n",
    "$$\n",
    "p(X = x|I) \n",
    "$$\n",
    "and we read \"the probability of $X$ being $x$\"."
   ]
  },
  {
   "cell_type": "markdown",
   "metadata": {
    "slideshow": {
     "slide_type": "fragment"
    }
   },
   "source": [
    "+ If it is not ambiguous, we will write:\n",
    "$$\n",
    "p(x) \\equiv p(X=x|I).\n",
    "$$"
   ]
  },
  {
   "cell_type": "markdown",
   "metadata": {
    "slideshow": {
     "slide_type": "slide"
    }
   },
   "source": [
    "### The Probability Mass Function\n",
    "\n",
    "If $X$ is a discrete random variable, then\n",
    "$$\n",
    "p(x) = p(X=x|I),\n",
    "$$\n",
    "is known as the **probability mass function** (PMF) of $X$."
   ]
  },
  {
   "cell_type": "markdown",
   "metadata": {
    "slideshow": {
     "slide_type": "slide"
    }
   },
   "source": [
    "### Properties of the PMF\n",
    "The PMF of a discrete random variable $X$, satisfies the following properties:\n",
    "+ $p(x) \\ge 0$,\n",
    "+ $\\sum_x p(x) = 1$."
   ]
  },
  {
   "cell_type": "markdown",
   "metadata": {
    "slideshow": {
     "slide_type": "slide"
    }
   },
   "source": [
    "### The Sum Rule for Random Variables\n",
    "+ Let $Y$ be another random variable. \n",
    "+ The **sum rule** becomes:"
   ]
  },
  {
   "cell_type": "markdown",
   "metadata": {
    "slideshow": {
     "slide_type": "fragment"
    }
   },
   "source": [
    "$$\n",
    "p(X=x|I) = \\sum_{y}p(X=x,Y=y|I) = \\sum_y p(X=x|Y=y,I)p(Y=y|I),\n",
    "$$"
   ]
  },
  {
   "cell_type": "markdown",
   "metadata": {
    "slideshow": {
     "slide_type": "fragment"
    }
   },
   "source": [
    "+ or in simpler notation:\n",
    "$$\n",
    "p(x) = \\sum_y p(x,y) = \\sum_y p(x|y)p(y).\n",
    "$$"
   ]
  },
  {
   "cell_type": "markdown",
   "metadata": {
    "slideshow": {
     "slide_type": "fragment"
    }
   },
   "source": [
    "+ The function $p(X=x, Y=y|I) \\equiv p(x, y)$ is known as the joint *probability mass function* of $X$ and $Y$."
   ]
  },
  {
   "cell_type": "markdown",
   "metadata": {
    "slideshow": {
     "slide_type": "slide"
    }
   },
   "source": [
    "### The Product Rule for Random Variables\n",
    "The **product rule** becomes:\n",
    "$$\n",
    "p(X=x,Y=y|I) = p(X=x|Y=y,I)p(Y=y|I),\n",
    "$$"
   ]
  },
  {
   "cell_type": "markdown",
   "metadata": {
    "slideshow": {
     "slide_type": "fragment"
    }
   },
   "source": [
    "or in simpler notation:\n",
    "$$\n",
    "p(x,y) = p(x|y)p(y).\n",
    "$$"
   ]
  },
  {
   "cell_type": "markdown",
   "metadata": {
    "slideshow": {
     "slide_type": "slide"
    }
   },
   "source": [
    "### Independent Random Variables\n",
    "We say that $X$ and $Y$ are **independent** and write:\n",
    "$$\n",
    "X\\perp Y|I,\n",
    "$$\n",
    "if knowledge of one does not yield any information about the other."
   ]
  },
  {
   "cell_type": "markdown",
   "metadata": {
    "slideshow": {
     "slide_type": "slide"
    }
   },
   "source": [
    "### Independent Random Variables\n",
    "Mathematically, $Y$ gives no information about $X$ if:\n",
    "$$\n",
    "p(x|y) = p(x).\n",
    "$$\n",
    "From the product rule, however, we get that:\n",
    "$$\n",
    "p(x) = p(x|y) = \\frac{p(x,y)}{p(y)},\n",
    "$$\n",
    "from which we see that the joint distribution of $X$ and $Y$ must factorize as:\n",
    "$$\n",
    "p(x, y) = p(x) p(y).\n",
    "$$"
   ]
  },
  {
   "cell_type": "markdown",
   "metadata": {
    "slideshow": {
     "slide_type": "slide"
    }
   },
   "source": [
    "### Independent Random Variables\n",
    "It is trivial to show that if this factorization holds, then\n",
    "$$\n",
    "p(y|x) = p(y),\n",
    "$$\n",
    "and thus $X$ yields no information about $Y$ either."
   ]
  },
  {
   "cell_type": "markdown",
   "metadata": {
    "slideshow": {
     "slide_type": "slide"
    }
   },
   "source": [
    "### Continuous Random Variables\n",
    "\n",
    "+ A random variable $X$ is continuous if the possible values it can take are continuous.\n",
    "+ The probability of a continuous variable getting a specific value is always zero.\n",
    "+ We would have to introduce the concepts of the **cumulative distribution function** and the **probability density function**. \n",
    "+ The theory will look identical to the theory about discrete random variables."
   ]
  },
  {
   "cell_type": "markdown",
   "metadata": {
    "slideshow": {
     "slide_type": "slide"
    }
   },
   "source": [
    "### The Cummulative Distribution Function\n",
    "+ Let $X$ be a real continuous random variable $X$\n",
    "+ The **cummulative distribution function** (CDF) gives the probability that $X$ is less than a given value $x$:\n",
    "$$\n",
    "F(x) := p(X\\le x|I).\n",
    "$$"
   ]
  },
  {
   "cell_type": "markdown",
   "metadata": {
    "slideshow": {
     "slide_type": "slide"
    }
   },
   "source": [
    "### Properties of the CDF"
   ]
  },
  {
   "cell_type": "markdown",
   "metadata": {
    "slideshow": {
     "slide_type": "fragment"
    }
   },
   "source": [
    "+ The CDF starts at zero and goes up to one:\n",
    "$$\n",
    "F(-\\infty) = 0\\;\\mbox{and}\\;F(+\\infty) = 1.\n",
    "$$"
   ]
  },
  {
   "cell_type": "markdown",
   "metadata": {
    "slideshow": {
     "slide_type": "fragment"
    }
   },
   "source": [
    "\n",
    "+ $F(x)$ is an increasing function of $x$, i.e.,\n",
    "$$\n",
    "x_1 \\le x_2 \\implies F(x_1)\\le F(x_2).\n",
    "$$"
   ]
  },
  {
   "cell_type": "markdown",
   "metadata": {
    "slideshow": {
     "slide_type": "fragment"
    }
   },
   "source": [
    "+ The probability of $X$ being in the interval $[x_1,x_2]$ is:\n",
    "$$\n",
    "p(x_1 \\le X \\le x_2|I) = F(x_2) - F(x_1).\n",
    "$$"
   ]
  },
  {
   "cell_type": "markdown",
   "metadata": {
    "slideshow": {
     "slide_type": "slide"
    }
   },
   "source": [
    "### The Probability Density Function\n",
    "+ Assume that the derivative of the CDF, $F(x)$, exists:\n",
    "$$\n",
    "f(x) = \\frac{dF(x)}{dx}.\n",
    "$$\n",
    "+ $f(x)$ is known as the **probability density function** (PDF) of $X$."
   ]
  },
  {
   "cell_type": "markdown",
   "metadata": {
    "slideshow": {
     "slide_type": "slide"
    }
   },
   "source": [
    "### Properties of the PDF\n",
    "\n",
    "+ It is non-negative:\n",
    "$$\n",
    "f(x) \\ge 0.\n",
    "$$\n",
    "\n",
    "+ It sums to one:\n",
    "$$\n",
    "\\int_{-\\infty}^{+\\infty} f(x)dx = 1.\n",
    "$$\n",
    "\n",
    "+ You can using it to compute any probability\n",
    "$$\n",
    "p(x_1 \\le X \\le x_2|I) = \\int_{x_1}^{x_2}f(x)dx.\n",
    "$$\n",
    "\n",
    "+ or even more complicated ones:\n",
    "$$\n",
    "p(X\\in \\mathcal{A}) = \\int_{\\mathcal{A}}f(x)dx.\n",
    "$$"
   ]
  },
  {
   "cell_type": "markdown",
   "metadata": {
    "slideshow": {
     "slide_type": "slide"
    }
   },
   "source": [
    "### Simplifying the Notation\n",
    "In order to make all the formulas of probability theory the same, we define for a continuous random variable $X$:\n",
    "$$\n",
    "p(x) := f(x) = \\frac{dF(x)}{dx} = \\frac{d}{dx}p(X \\le x|I).\n",
    "$$\n",
    "But keep in mind, that if $X$ is continuous $p(x)$ is not a probability but a probability density.\n",
    "That is, it needs a $dx$ to become a probability."
   ]
  },
  {
   "cell_type": "markdown",
   "metadata": {
    "slideshow": {
     "slide_type": "slide"
    }
   },
   "source": [
    "### The Sum Rule and Product Rule for Continuous Random Variables\n",
    "Let the PDF $p(x)$ of $X$ and the PDF $p(y)$ of $Y$ ($Y$ is another continuous random variable).\n",
    "We can find the PDF of the random variable $X$ conditioned on $Y$, i.e., the PDF of $X$ if $Y$ is directly observed.\n",
    "This is the **product rule** for continuous random variables:\n",
    "$$\n",
    "p(y|x) = \\frac{p(x, y)}{p(y)},\n",
    "$$\n",
    "where $p(x,y)$ is the **joint PDF** of $X$ and $Y$.\n",
    "The **sum rule** for continuous random variables is:\n",
    "$$\n",
    "p(x) = \\int p(x, y) dy = \\int p(x | y) p(y) dy.\n",
    "$$\n"
   ]
  },
  {
   "cell_type": "markdown",
   "metadata": {
    "slideshow": {
     "slide_type": "slide"
    }
   },
   "source": [
    "## Expectations\n",
    "\n",
    "Let $X$ be a random variable. The expectation of $X$ is defined to be:\n",
    "$$\n",
    "\\mathbb{E}[X] := \\mathbb{E}[X | I] = \\int x p(x) dx.\n",
    "$$\n"
   ]
  },
  {
   "cell_type": "markdown",
   "metadata": {
    "slideshow": {
     "slide_type": "slide"
    }
   },
   "source": [
    "### Expectation of a Function of a Random Variable\n",
    "+ Now let $g(x)$ be any function. The expectation of $g(X)$, i.e., the random variable defined after passing $X$ through $g(\\cdot)$, is:\n",
    "$$\n",
    "\\mathbb{E}[g(X)] := \\mathbb{E}[g(X)|I] = \\int g(x)p(x)dx.\n",
    "$$\n",
    "+ As usual, calling $\\mathbb{E}[\\cdot]$ is not a very good name.\n",
    "+ You may think of $\\mathbb{E}[g(X)]$ as the expected value of $g(X)$, but do not take it too far.\n",
    "+ Can you think of an example in which the expected value is never actually observed?"
   ]
  },
  {
   "cell_type": "markdown",
   "metadata": {
    "slideshow": {
     "slide_type": "slide"
    }
   },
   "source": [
    "### Conditional Expectation\n",
    "Let $X$ and $Y$ be two random variables. The conditional expectation of $X$ given $Y=y$ is defined to be:\n",
    "$$\n",
    "\\mathbb{E}[X|Y=y] := \\mathbb{E}[X|Y=y,I] = \\int xp(x|y)dx.\n",
    "$$"
   ]
  },
  {
   "cell_type": "markdown",
   "metadata": {
    "slideshow": {
     "slide_type": "slide"
    }
   },
   "source": [
    "### Properties of Expectations\n",
    "\n",
    "The following properties of expectations of random variables are extremely helpful. In what follows, $X$ and $Y$ are random variables and $c$ is a constant:\n",
    "\n",
    "+ Sum of random variable with a constant:\n",
    "$$\n",
    "\\mathbb{E}[X+c] = \\mathbb{E}[X] + c.\n",
    "$$ \n",
    "\n",
    "+ Sum of two random variables:\n",
    "$$\n",
    "\\mathbb{E}[X+Y] = \\mathbb{E}[X] + \\mathbb{E}[Y].\n",
    "$$\n",
    "\n",
    "+ Product of random variable with constant:\n",
    "$$\n",
    "\\mathbb{E}[cX] = c\\mathbb{E}[X].\n",
    "$$\n"
   ]
  },
  {
   "cell_type": "markdown",
   "metadata": {
    "slideshow": {
     "slide_type": "slide"
    }
   },
   "source": [
    "### More Properties of Expectations\n",
    "+ If $X\\perp Y$, then:\n",
    "$$\n",
    "\\mathbb{E}[XY] = \\mathbb{E}[X]\\mathbb{E}[Y].\n",
    "$$\n",
    "**NOTE**: This property does not hold if $X$ and $Y$ are not independent!\n",
    "\n",
    "+ If $f(\\cdot)$ is a convex function, then:\n",
    "$$\n",
    "f(\\mathbb{E}[X]) \\le \\mathbb{E}[f(X)].\n",
    "$$\n",
    "**NOTE**: The equality holds only if $f(\\cdot)$ is linear!"
   ]
  },
  {
   "cell_type": "markdown",
   "metadata": {
    "slideshow": {
     "slide_type": "slide"
    }
   },
   "source": [
    "### Variance of a Random Variable\n",
    "\n",
    "The variance of $X$ is defined to be:\n",
    "$$\n",
    "\\mathbb{V}[X] = \\mathbb{E}\\left[X - \\mathbb{E}[X])^2\\right].\n",
    "$$\n",
    "It is easy to prove (and a very useful formulat to remember), that:\n",
    "$$\n",
    "\\mathbb{V}[X] = \\mathbb{E}[X^2] - \\left(\\mathbb{E}[X]\\right)^2.\n",
    "$$"
   ]
  },
  {
   "cell_type": "markdown",
   "metadata": {
    "slideshow": {
     "slide_type": "slide"
    }
   },
   "source": [
    "### Covariance of Two Random Variables\n",
    "Let $X$ and $Y$ be two random variables.\n",
    "The covariance between $X$ and $Y$ is defined to be:\n",
    "$$\n",
    "\\mathbb{C}[X, Y] = \\mathbb{E}\\left[\\left(X - \\mathbb{E}[X]\\right)\n",
    "\\left(Y-\\mathbb{E}[Y]\\right)\\right]\n",
    "$$"
   ]
  },
  {
   "cell_type": "markdown",
   "metadata": {
    "slideshow": {
     "slide_type": "slide"
    }
   },
   "source": [
    "### Properties of the Variance\n",
    "Let $X$ and $Y$ be random variables and $c$ be a constant.\n",
    "Then:\n",
    "+ Sum of random variable with a constant:\n",
    "$$\n",
    "\\mathbb{V}[X + c] = \\mathbb{V}[X].\n",
    "$$\n",
    "+ Product of random variable with a constant:\n",
    "$$\n",
    "\\mathbb{V}[cX] = c^2\\mathbb{V}[X].\n",
    "$$\n",
    "+ Sum of two random variables:\n",
    "$$\n",
    "\\mathbb{V}[X+Y] = \\mathbb{V}[X] + \\mathbb{V}[Y] + 2\\mathbb{C}(X,Y).\n",
    "$$\n",
    "+ Sum of two independent random variables:\n",
    "$$\n",
    "\\mathbb{V}[X+Y] = \\mathbb{V}[X] + \\mathbb{V}[Y].\n",
    "$$"
   ]
  }
 ],
 "metadata": {
  "celltoolbar": "Slideshow",
  "kernelspec": {
   "display_name": "Python 2",
   "language": "python",
   "name": "python2"
  },
  "language_info": {
   "codemirror_mode": {
    "name": "ipython",
    "version": 2
   },
   "file_extension": ".py",
   "mimetype": "text/x-python",
   "name": "python",
   "nbconvert_exporter": "python",
   "pygments_lexer": "ipython2",
   "version": "2.7.11"
  },
  "latex_envs": {
   "bibliofile": "biblio.bib",
   "cite_by": "apalike",
   "current_citInitial": 1,
   "eqLabelWithNumbers": true,
   "eqNumInitial": 0
  }
 },
 "nbformat": 4,
 "nbformat_minor": 0
}
